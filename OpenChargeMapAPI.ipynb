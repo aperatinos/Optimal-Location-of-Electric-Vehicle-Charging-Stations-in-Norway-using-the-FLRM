{
 "cells": [
  {
   "cell_type": "code",
   "execution_count": 1,
   "id": "9e6a1dac-d27c-4349-bd5f-f24d4eeedda3",
   "metadata": {},
   "outputs": [],
   "source": [
    "import requests\n",
    "import json\n",
    "import pyjstat\n",
    "import pandas as pd\n",
    "import pyjstat\n",
    "from pyjstat import pyjstat\n",
    "import pandas as pd"
   ]
  },
  {
   "cell_type": "code",
   "execution_count": 2,
   "id": "2108093d-9f81-412d-9340-eca037cb8c49",
   "metadata": {},
   "outputs": [],
   "source": [
    "url=\"https://api.openchargemap.io/v3\"\n",
    "api_key = INSERT API KEY HERE"
   ]
  },
  {
   "cell_type": "code",
   "execution_count": 3,
   "id": "a85d28dc-2d62-439d-a859-53c27fc1278f",
   "metadata": {},
   "outputs": [
    {
     "data": {
      "text/plain": [
       "<Response [401]>"
      ]
     },
     "execution_count": 3,
     "metadata": {},
     "output_type": "execute_result"
    }
   ],
   "source": [
    "requests.post(url, params={'key': api_key})"
   ]
  },
  {
   "cell_type": "code",
   "execution_count": 23,
   "id": "5fdef5be-b771-481d-b3c0-419e8ea5f9d0",
   "metadata": {},
   "outputs": [],
   "source": [
    "params = {\"countryid\": \"168\", \"levelid\":\"3\", \"isoperational\":True,\n",
    "\"output\": \"json\", \"compact\": True, \"verbose\": True, \"key\":api_key, \"maxresults\": 5000}\n",
    "f = r'https://api.openchargemap.io/v3/poi'\n",
    "data = requests.get(f, params=params)\n",
    "a=data.text\n",
    "a=json.loads(a)"
   ]
  },
  {
   "cell_type": "code",
   "execution_count": 24,
   "id": "525905f4-6896-438f-bf61-f1500911776f",
   "metadata": {},
   "outputs": [],
   "source": [
    "title = []\n",
    "latitude = []\n",
    "longitude = []\n",
    "for i in range(len(a)):\n",
    "    temptitle = a[i]['AddressInfo']['Title']\n",
    "    templat   = a[i]['AddressInfo']['Latitude']\n",
    "    templon   = a[i]['AddressInfo']['Longitude']\n",
    "    title.append(temptitle)\n",
    "    latitude.append(templat)\n",
    "    longitude.append(templon)\n",
    "\n",
    "d = {'Name':title, 'Latitude':latitude, 'Longitude':longitude}\n",
    "df = pd.DataFrame(d)"
   ]
  },
  {
   "cell_type": "code",
   "execution_count": 25,
   "id": "3abf3ffd-32a1-4550-af9a-91f7c18e8632",
   "metadata": {},
   "outputs": [
    {
     "data": {
      "text/html": [
       "<div>\n",
       "<style scoped>\n",
       "    .dataframe tbody tr th:only-of-type {\n",
       "        vertical-align: middle;\n",
       "    }\n",
       "\n",
       "    .dataframe tbody tr th {\n",
       "        vertical-align: top;\n",
       "    }\n",
       "\n",
       "    .dataframe thead th {\n",
       "        text-align: right;\n",
       "    }\n",
       "</style>\n",
       "<table border=\"1\" class=\"dataframe\">\n",
       "  <thead>\n",
       "    <tr style=\"text-align: right;\">\n",
       "      <th></th>\n",
       "      <th>Name</th>\n",
       "      <th>Latitude</th>\n",
       "      <th>Longitude</th>\n",
       "    </tr>\n",
       "  </thead>\n",
       "  <tbody>\n",
       "    <tr>\n",
       "      <th>0</th>\n",
       "      <td>Esso Moholt</td>\n",
       "      <td>63.409756</td>\n",
       "      <td>10.440880</td>\n",
       "    </tr>\n",
       "    <tr>\n",
       "      <th>1</th>\n",
       "      <td>Vikøyrane Ørsta</td>\n",
       "      <td>62.198938</td>\n",
       "      <td>6.123863</td>\n",
       "    </tr>\n",
       "    <tr>\n",
       "      <th>2</th>\n",
       "      <td>Yx Stryn</td>\n",
       "      <td>61.900698</td>\n",
       "      <td>6.715850</td>\n",
       "    </tr>\n",
       "    <tr>\n",
       "      <th>3</th>\n",
       "      <td>IONITY Aurland</td>\n",
       "      <td>60.899200</td>\n",
       "      <td>7.210500</td>\n",
       "    </tr>\n",
       "    <tr>\n",
       "      <th>4</th>\n",
       "      <td>IONITY Rygge</td>\n",
       "      <td>59.386500</td>\n",
       "      <td>10.751570</td>\n",
       "    </tr>\n",
       "    <tr>\n",
       "      <th>...</th>\n",
       "      <td>...</td>\n",
       "      <td>...</td>\n",
       "      <td>...</td>\n",
       "    </tr>\n",
       "    <tr>\n",
       "      <th>577</th>\n",
       "      <td>Lyngdal Supercharger</td>\n",
       "      <td>58.156520</td>\n",
       "      <td>7.102960</td>\n",
       "    </tr>\n",
       "    <tr>\n",
       "      <th>578</th>\n",
       "      <td>Aurland Supercharger</td>\n",
       "      <td>60.898649</td>\n",
       "      <td>7.210826</td>\n",
       "    </tr>\n",
       "    <tr>\n",
       "      <th>579</th>\n",
       "      <td>Lillehammer Supercharger</td>\n",
       "      <td>61.130464</td>\n",
       "      <td>10.434918</td>\n",
       "    </tr>\n",
       "    <tr>\n",
       "      <th>580</th>\n",
       "      <td>Fortum Hurtigladestasjon Værnes Lufthavn</td>\n",
       "      <td>63.451216</td>\n",
       "      <td>10.919549</td>\n",
       "    </tr>\n",
       "    <tr>\n",
       "      <th>581</th>\n",
       "      <td>Maxi Storsenter</td>\n",
       "      <td>60.798570</td>\n",
       "      <td>11.047120</td>\n",
       "    </tr>\n",
       "  </tbody>\n",
       "</table>\n",
       "<p>582 rows × 3 columns</p>\n",
       "</div>"
      ],
      "text/plain": [
       "                                         Name   Latitude  Longitude\n",
       "0                                 Esso Moholt  63.409756  10.440880\n",
       "1                            Vikøyrane Ørsta   62.198938   6.123863\n",
       "2                                    Yx Stryn  61.900698   6.715850\n",
       "3                              IONITY Aurland  60.899200   7.210500\n",
       "4                                IONITY Rygge  59.386500  10.751570\n",
       "..                                        ...        ...        ...\n",
       "577                      Lyngdal Supercharger  58.156520   7.102960\n",
       "578                      Aurland Supercharger  60.898649   7.210826\n",
       "579                  Lillehammer Supercharger  61.130464  10.434918\n",
       "580  Fortum Hurtigladestasjon Værnes Lufthavn  63.451216  10.919549\n",
       "581                           Maxi Storsenter  60.798570  11.047120\n",
       "\n",
       "[582 rows x 3 columns]"
      ]
     },
     "execution_count": 25,
     "metadata": {},
     "output_type": "execute_result"
    }
   ],
   "source": [
    "df"
   ]
  },
  {
   "cell_type": "code",
   "execution_count": 27,
   "id": "bf0c6944-2e19-48c1-964e-c288f4a2cf52",
   "metadata": {},
   "outputs": [],
   "source": [
    "df.to_csv(\"Data\\AllCurrentCS.csv\" ,encoding=\"Cp1252\")"
   ]
  }
 ],
 "metadata": {
  "kernelspec": {
   "display_name": "Python (ox)",
   "language": "python",
   "name": "ox"
  },
  "language_info": {
   "codemirror_mode": {
    "name": "ipython",
    "version": 3
   },
   "file_extension": ".py",
   "mimetype": "text/x-python",
   "name": "python",
   "nbconvert_exporter": "python",
   "pygments_lexer": "ipython3",
   "version": "3.10.2"
  }
 },
 "nbformat": 4,
 "nbformat_minor": 5
}
